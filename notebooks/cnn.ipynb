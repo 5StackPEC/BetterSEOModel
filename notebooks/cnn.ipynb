{
 "cells": [
  {
   "cell_type": "code",
   "execution_count": 36,
   "metadata": {},
   "outputs": [],
   "source": [
    "import cv2\n",
    "import numpy as np\n",
    "import pandas as pd\n",
    "import tensorflow as tf\n",
    "from tensorflow.keras.models import Model\n",
    "from tensorflow.keras.layers import Dense, Dropout, GlobalAveragePooling2D\n",
    "from tensorflow.keras.applications import ResNet50\n",
    "from sklearn.model_selection import train_test_split"
   ]
  },
  {
   "cell_type": "code",
   "execution_count": 37,
   "metadata": {},
   "outputs": [],
   "source": [
    "def load_data():\n",
    "    # loading and preprocessing dataset \n",
    "    data = pd.read_csv(\"../dataset/annotations/annotations.csv\")\n",
    "    data = data[['id','image','score']]\n",
    "        \n",
    "    images = []\n",
    "    for i in range(0,len(data)):\n",
    "        filepath = data['image'][i]\n",
    "        image = cv2.imread('../dataset/images/{0}'.format(filepath),cv2.IMREAD_COLOR)\n",
    "\n",
    "        if image is not None:\n",
    "            new_dimensions = (224, 224)\n",
    "            resized_image = cv2.resize(image, new_dimensions, interpolation=cv2.INTER_AREA)\n",
    "            images.append(resized_image)\n",
    "\n",
    "    return np.array(images), np.array(data['score'])"
   ]
  },
  {
   "cell_type": "code",
   "execution_count": 38,
   "metadata": {},
   "outputs": [
    {
     "name": "stdout",
     "output_type": "stream",
     "text": [
      "(107, 224, 224, 3)\n",
      "[82. 29. 57. 57. 79. 54. 79. 57. 57. 79. 61. 57. 43. 64. 82. 57. 46. 61.\n",
      " 79. 57. 57. 68. 75. 39. 57. 54. 82. 71. 79. 57. 75. 57. 71. 71. 79. 57.\n",
      " 79. 57. 79. 54. 75. 61. 50. 75. 57. 79. 79. 57. 57. 36. 82. 79. 57. 57.\n",
      " 64. 79. 79. 57. 79. 79. 79. 71. 79. 57. 71. 64. 57. 57. 57. 61. 57. 57.\n",
      " 57. 82. 79. 79. 79. 57. 57. 79. 79. 75. 57. 57. 79.]\n"
     ]
    }
   ],
   "source": [
    "images, ratings = load_data()\n",
    "images = images / 255.0  # normalize images\n",
    "\n",
    "print(images.shape)\n",
    "\n",
    "X_train, X_test, y_train, y_test = train_test_split(images, ratings, test_size=0.2, random_state=42)\n",
    "\n",
    "print(y_train)\n"
   ]
  },
  {
   "cell_type": "code",
   "execution_count": 39,
   "metadata": {},
   "outputs": [
    {
     "name": "stdout",
     "output_type": "stream",
     "text": [
      "Epoch 1/20\n",
      "\u001b[1m3/3\u001b[0m \u001b[32m━━━━━━━━━━━━━━━━━━━━\u001b[0m\u001b[37m\u001b[0m \u001b[1m7s\u001b[0m 1s/step - loss: 4183.7070 - mae: 63.3772 - val_loss: 3090.7395 - val_mae: 54.5420\n",
      "Epoch 2/20\n",
      "\u001b[1m3/3\u001b[0m \u001b[32m━━━━━━━━━━━━━━━━━━━━\u001b[0m\u001b[37m\u001b[0m \u001b[1m2s\u001b[0m 674ms/step - loss: 2820.4883 - mae: 51.3857 - val_loss: 2063.1604 - val_mae: 44.1280\n",
      "Epoch 3/20\n",
      "\u001b[1m3/3\u001b[0m \u001b[32m━━━━━━━━━━━━━━━━━━━━\u001b[0m\u001b[37m\u001b[0m \u001b[1m2s\u001b[0m 693ms/step - loss: 1828.1238 - mae: 40.8848 - val_loss: 1241.9486 - val_mae: 33.5472\n",
      "Epoch 4/20\n",
      "\u001b[1m3/3\u001b[0m \u001b[32m━━━━━━━━━━━━━━━━━━━━\u001b[0m\u001b[37m\u001b[0m \u001b[1m2s\u001b[0m 684ms/step - loss: 1098.5206 - mae: 30.7080 - val_loss: 608.9020 - val_mae: 22.1506\n",
      "Epoch 5/20\n",
      "\u001b[1m3/3\u001b[0m \u001b[32m━━━━━━━━━━━━━━━━━━━━\u001b[0m\u001b[37m\u001b[0m \u001b[1m2s\u001b[0m 667ms/step - loss: 560.8367 - mae: 20.6446 - val_loss: 228.8410 - val_mae: 10.9997\n",
      "Epoch 6/20\n",
      "\u001b[1m3/3\u001b[0m \u001b[32m━━━━━━━━━━━━━━━━━━━━\u001b[0m\u001b[37m\u001b[0m \u001b[1m2s\u001b[0m 698ms/step - loss: 263.9670 - mae: 12.8880 - val_loss: 125.0555 - val_mae: 10.3456\n",
      "Epoch 7/20\n",
      "\u001b[1m3/3\u001b[0m \u001b[32m━━━━━━━━━━━━━━━━━━━━\u001b[0m\u001b[37m\u001b[0m \u001b[1m2s\u001b[0m 671ms/step - loss: 226.2657 - mae: 12.5732 - val_loss: 223.4444 - val_mae: 12.8113\n",
      "Epoch 8/20\n",
      "\u001b[1m3/3\u001b[0m \u001b[32m━━━━━━━━━━━━━━━━━━━━\u001b[0m\u001b[37m\u001b[0m \u001b[1m2s\u001b[0m 678ms/step - loss: 304.0238 - mae: 13.6639 - val_loss: 348.7752 - val_mae: 15.5205\n",
      "Epoch 9/20\n",
      "\u001b[1m3/3\u001b[0m \u001b[32m━━━━━━━━━━━━━━━━━━━━\u001b[0m\u001b[37m\u001b[0m \u001b[1m2s\u001b[0m 656ms/step - loss: 472.4627 - mae: 17.9935 - val_loss: 363.6512 - val_mae: 15.8950\n",
      "Epoch 10/20\n",
      "\u001b[1m3/3\u001b[0m \u001b[32m━━━━━━━━━━━━━━━━━━━━\u001b[0m\u001b[37m\u001b[0m \u001b[1m2s\u001b[0m 654ms/step - loss: 416.7898 - mae: 15.9980 - val_loss: 288.8078 - val_mae: 14.0903\n",
      "Epoch 11/20\n",
      "\u001b[1m3/3\u001b[0m \u001b[32m━━━━━━━━━━━━━━━━━━━━\u001b[0m\u001b[37m\u001b[0m \u001b[1m2s\u001b[0m 685ms/step - loss: 367.8511 - mae: 15.3345 - val_loss: 192.1119 - val_mae: 12.2014\n",
      "Epoch 12/20\n",
      "\u001b[1m3/3\u001b[0m \u001b[32m━━━━━━━━━━━━━━━━━━━━\u001b[0m\u001b[37m\u001b[0m \u001b[1m2s\u001b[0m 666ms/step - loss: 258.5346 - mae: 12.7633 - val_loss: 131.6500 - val_mae: 10.6465\n",
      "Epoch 13/20\n",
      "\u001b[1m3/3\u001b[0m \u001b[32m━━━━━━━━━━━━━━━━━━━━\u001b[0m\u001b[37m\u001b[0m \u001b[1m2s\u001b[0m 666ms/step - loss: 211.6427 - mae: 12.4419 - val_loss: 125.4734 - val_mae: 10.2501\n",
      "Epoch 14/20\n",
      "\u001b[1m3/3\u001b[0m \u001b[32m━━━━━━━━━━━━━━━━━━━━\u001b[0m\u001b[37m\u001b[0m \u001b[1m2s\u001b[0m 655ms/step - loss: 179.4779 - mae: 11.2747 - val_loss: 148.7384 - val_mae: 10.0764\n",
      "Epoch 15/20\n",
      "\u001b[1m3/3\u001b[0m \u001b[32m━━━━━━━━━━━━━━━━━━━━\u001b[0m\u001b[37m\u001b[0m \u001b[1m2s\u001b[0m 662ms/step - loss: 226.9788 - mae: 11.8332 - val_loss: 168.0006 - val_mae: 10.1568\n",
      "Epoch 16/20\n",
      "\u001b[1m3/3\u001b[0m \u001b[32m━━━━━━━━━━━━━━━━━━━━\u001b[0m\u001b[37m\u001b[0m \u001b[1m2s\u001b[0m 648ms/step - loss: 190.5944 - mae: 10.7053 - val_loss: 167.6808 - val_mae: 10.1537\n",
      "Epoch 17/20\n",
      "\u001b[1m3/3\u001b[0m \u001b[32m━━━━━━━━━━━━━━━━━━━━\u001b[0m\u001b[37m\u001b[0m \u001b[1m2s\u001b[0m 633ms/step - loss: 222.4471 - mae: 11.7952 - val_loss: 151.6007 - val_mae: 10.0821\n",
      "Epoch 18/20\n",
      "\u001b[1m3/3\u001b[0m \u001b[32m━━━━━━━━━━━━━━━━━━━━\u001b[0m\u001b[37m\u001b[0m \u001b[1m2s\u001b[0m 641ms/step - loss: 188.3521 - mae: 11.2641 - val_loss: 135.0670 - val_mae: 10.1833\n",
      "Epoch 19/20\n",
      "\u001b[1m3/3\u001b[0m \u001b[32m━━━━━━━━━━━━━━━━━━━━\u001b[0m\u001b[37m\u001b[0m \u001b[1m2s\u001b[0m 638ms/step - loss: 193.8836 - mae: 11.8411 - val_loss: 126.2137 - val_mae: 10.2657\n",
      "Epoch 20/20\n",
      "\u001b[1m3/3\u001b[0m \u001b[32m━━━━━━━━━━━━━━━━━━━━\u001b[0m\u001b[37m\u001b[0m \u001b[1m2s\u001b[0m 645ms/step - loss: 179.3920 - mae: 11.3786 - val_loss: 122.9448 - val_mae: 10.3141\n"
     ]
    }
   ],
   "source": [
    "base_model = ResNet50(\n",
    "    weights='imagenet', \n",
    "    include_top=False, \n",
    "    input_shape=(224,224,3)\n",
    "    )\n",
    "\n",
    "# Add custom top layers for regression\n",
    "x = base_model.output\n",
    "x = GlobalAveragePooling2D()(x)\n",
    "x = Dense(1024, activation='relu')(x)\n",
    "x = Dropout(0.5)(x)\n",
    "predictions = Dense(1, activation='linear')(x)  # Output layer for regression\n",
    "\n",
    "model = Model(inputs=base_model.input, outputs=predictions)\n",
    "\n",
    "for layer in base_model.layers:\n",
    "    layer.trainable = False\n",
    "\n",
    "model.compile(optimizer='adam', loss='mean_squared_error', metrics=['mae'])\n",
    "history = model.fit(X_train, y_train, epochs=20, validation_split=0.2, batch_size=32)\n"
   ]
  },
  {
   "cell_type": "code",
   "execution_count": 40,
   "metadata": {},
   "outputs": [
    {
     "name": "stdout",
     "output_type": "stream",
     "text": [
      "Epoch 1/10\n",
      "\u001b[1m3/3\u001b[0m \u001b[32m━━━━━━━━━━━━━━━━━━━━\u001b[0m\u001b[37m\u001b[0m \u001b[1m8s\u001b[0m 1s/step - loss: 195.2019 - mae: 11.2811 - val_loss: 121.8218 - val_mae: 10.3612\n",
      "Epoch 2/10\n",
      "\u001b[1m3/3\u001b[0m \u001b[32m━━━━━━━━━━━━━━━━━━━━\u001b[0m\u001b[37m\u001b[0m \u001b[1m2s\u001b[0m 729ms/step - loss: 178.4998 - mae: 10.8208 - val_loss: 121.4980 - val_mae: 10.3928\n",
      "Epoch 3/10\n",
      "\u001b[1m3/3\u001b[0m \u001b[32m━━━━━━━━━━━━━━━━━━━━\u001b[0m\u001b[37m\u001b[0m \u001b[1m2s\u001b[0m 752ms/step - loss: 223.9911 - mae: 12.4717 - val_loss: 121.3020 - val_mae: 10.4308\n",
      "Epoch 4/10\n",
      "\u001b[1m3/3\u001b[0m \u001b[32m━━━━━━━━━━━━━━━━━━━━\u001b[0m\u001b[37m\u001b[0m \u001b[1m2s\u001b[0m 728ms/step - loss: 166.1949 - mae: 10.7280 - val_loss: 121.3700 - val_mae: 10.4719\n",
      "Epoch 5/10\n",
      "\u001b[1m3/3\u001b[0m \u001b[32m━━━━━━━━━━━━━━━━━━━━\u001b[0m\u001b[37m\u001b[0m \u001b[1m2s\u001b[0m 701ms/step - loss: 162.2874 - mae: 10.1488 - val_loss: 121.5427 - val_mae: 10.5075\n",
      "Epoch 6/10\n",
      "\u001b[1m3/3\u001b[0m \u001b[32m━━━━━━━━━━━━━━━━━━━━\u001b[0m\u001b[37m\u001b[0m \u001b[1m2s\u001b[0m 762ms/step - loss: 158.8095 - mae: 10.1180 - val_loss: 121.9601 - val_mae: 10.5448\n",
      "Epoch 7/10\n",
      "\u001b[1m3/3\u001b[0m \u001b[32m━━━━━━━━━━━━━━━━━━━━\u001b[0m\u001b[37m\u001b[0m \u001b[1m2s\u001b[0m 760ms/step - loss: 158.7991 - mae: 10.4966 - val_loss: 122.3893 - val_mae: 10.5740\n",
      "Epoch 8/10\n",
      "\u001b[1m3/3\u001b[0m \u001b[32m━━━━━━━━━━━━━━━━━━━━\u001b[0m\u001b[37m\u001b[0m \u001b[1m2s\u001b[0m 765ms/step - loss: 160.8922 - mae: 10.4408 - val_loss: 123.0144 - val_mae: 10.6032\n",
      "Epoch 9/10\n",
      "\u001b[1m3/3\u001b[0m \u001b[32m━━━━━━━━━━━━━━━━━━━━\u001b[0m\u001b[37m\u001b[0m \u001b[1m3s\u001b[0m 786ms/step - loss: 178.7670 - mae: 10.9088 - val_loss: 123.4407 - val_mae: 10.6237\n",
      "Epoch 10/10\n",
      "\u001b[1m3/3\u001b[0m \u001b[32m━━━━━━━━━━━━━━━━━━━━\u001b[0m\u001b[37m\u001b[0m \u001b[1m2s\u001b[0m 714ms/step - loss: 138.0990 - mae: 9.9078 - val_loss: 123.8003 - val_mae: 10.6382\n",
      "\u001b[1m1/1\u001b[0m \u001b[32m━━━━━━━━━━━━━━━━━━━━\u001b[0m\u001b[37m\u001b[0m \u001b[1m1s\u001b[0m 576ms/step - loss: 197.2007 - mae: 12.7382\n",
      "Test MAE: 12.738234519958496\n"
     ]
    }
   ],
   "source": [
    "for layer in base_model.layers[-10:]:\n",
    "    layer.trainable = True\n",
    "\n",
    "model.compile(optimizer=tf.keras.optimizers.Adam(learning_rate=1e-5), loss='mean_squared_error', metrics=['mae'])\n",
    "history_fine = model.fit(X_train, y_train, epochs=10, validation_split=0.2, batch_size=32)\n",
    "\n",
    "test_loss, test_mae = model.evaluate(X_test, y_test)\n",
    "print(f'Test MAE: {test_mae}')"
   ]
  },
  {
   "cell_type": "code",
   "execution_count": 41,
   "metadata": {},
   "outputs": [
    {
     "name": "stderr",
     "output_type": "stream",
     "text": [
      "WARNING:absl:You are saving your model as an HDF5 file via `model.save()` or `keras.saving.save_model(model)`. This file format is considered legacy. We recommend using instead the native Keras format, e.g. `model.save('my_model.keras')` or `keras.saving.save_model(model, 'my_model.keras')`. \n"
     ]
    }
   ],
   "source": [
    "model.save(\"BetterSEOModel.h5\")"
   ]
  },
  {
   "cell_type": "code",
   "execution_count": 42,
   "metadata": {},
   "outputs": [
    {
     "name": "stderr",
     "output_type": "stream",
     "text": [
      "WARNING:absl:Compiled the loaded model, but the compiled metrics have yet to be built. `model.compile_metrics` will be empty until you train or evaluate the model.\n"
     ]
    }
   ],
   "source": [
    "new_model = tf.keras.models.load_model('BetterSEOModel.h5')"
   ]
  },
  {
   "cell_type": "code",
   "execution_count": 43,
   "metadata": {},
   "outputs": [
    {
     "name": "stdout",
     "output_type": "stream",
     "text": [
      "\u001b[1m1/1\u001b[0m \u001b[32m━━━━━━━━━━━━━━━━━━━━\u001b[0m\u001b[37m\u001b[0m \u001b[1m1s\u001b[0m 785ms/step\n",
      "Predicted Rating: 71.59967041015625\n"
     ]
    }
   ],
   "source": [
    "# Predict rating for a new screenshot\n",
    "def predict_rating(screenshot):\n",
    "    new_dimensions = (224,224)\n",
    "    resized_image = cv2.resize(screenshot, new_dimensions, interpolation=cv2.INTER_AREA)\n",
    "    screenshot = resized_image / 255.0\n",
    "    screenshot = np.expand_dims(screenshot, axis=0)  \n",
    "    predicted_rating = new_model.predict(screenshot)\n",
    "    return predicted_rating[0][0]\n",
    "\n",
    "# Load Screenshot and make prediction\n",
    "new_screenshot = cv2.imread('../dataset/images/{0}'.format('architecturalrecord.png'),cv2.IMREAD_COLOR)\n",
    "predicted_rating = predict_rating(new_screenshot)\n",
    "print(f'Predicted Rating: {predicted_rating}')\n"
   ]
  }
 ],
 "metadata": {
  "kernelspec": {
   "display_name": "Python 3",
   "language": "python",
   "name": "python3"
  },
  "language_info": {
   "codemirror_mode": {
    "name": "ipython",
    "version": 3
   },
   "file_extension": ".py",
   "mimetype": "text/x-python",
   "name": "python",
   "nbconvert_exporter": "python",
   "pygments_lexer": "ipython3",
   "version": "3.10.6"
  }
 },
 "nbformat": 4,
 "nbformat_minor": 2
}
